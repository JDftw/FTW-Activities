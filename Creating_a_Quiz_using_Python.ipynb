{
  "nbformat": 4,
  "nbformat_minor": 0,
  "metadata": {
    "colab": {
      "name": "Creating a Quiz using Python",
      "provenance": [],
      "collapsed_sections": [],
      "include_colab_link": true
    },
    "kernelspec": {
      "name": "python3",
      "display_name": "Python 3"
    }
  },
  "cells": [
    {
      "cell_type": "markdown",
      "metadata": {
        "id": "view-in-github",
        "colab_type": "text"
      },
      "source": [
        "<a href=\"https://colab.research.google.com/github/JDftw/FTW-Activities/blob/master/Creating_a_Quiz_using_Python.ipynb\" target=\"_parent\"><img src=\"https://colab.research.google.com/assets/colab-badge.svg\" alt=\"Open In Colab\"/></a>"
      ]
    },
    {
      "cell_type": "markdown",
      "metadata": {
        "id": "_ApMf3_qMf75",
        "colab_type": "text"
      },
      "source": [
        "The Philippine Archipelago (Quiz)\n",
        "=="
      ]
    },
    {
      "cell_type": "markdown",
      "metadata": {
        "id": "_EB0tlf4MmGo",
        "colab_type": "text"
      },
      "source": [
        "How well do you know the Philippine Archipelago? Take this quiz to find out."
      ]
    },
    {
      "cell_type": "code",
      "metadata": {
        "id": "jxyIcv9Asop5",
        "colab_type": "code",
        "colab": {
          "base_uri": "https://localhost:8080/",
          "height": 450
        },
        "outputId": "f54f5c1b-9820-45a1-f2cb-ee5910644a9e"
      },
      "source": [
        "def main():\n",
        "    \n",
        "    questions={'What is the capital of the Republic of the Philippines? ':'Manila', 'What is the \"Summer Capital\" of the Philippines? ':'Baguio City', 'What is the oldest city of the Philippines? ':'Cebu', 'What is the largest island of the Philippine Archipelago? ':'Luzon', 'What is the longest mountain range in the Country? ':'Sierra Madre', 'Where is the highest peak in the Philippines? ':'Mt. Apo','What is the longest river in the Philippines? ':'Cagayan River','What is the provincial capital of Isabela? ':'Ilagan','The Philippines is composed of approximately how many islands? ':'7500','What is the largest province in the Philippines in terms of land area? ':'Palawan'}\n",
        "    print(\"Goodluck! ^_^\\n\")\n",
        "    name = input(\"Please enter your name: \").title()\n",
        "    print()\n",
        "    print(\"\\nWell done {0}, you scored {1} out of {2}.\".format(name, quiz(questions), len(questions)))\n",
        "        \n",
        "def quiz(questions):\n",
        "    score = 0\n",
        "    for q,a in questions.items():\n",
        "        if input(q).lower() == a.lower():\n",
        "            score += 1\n",
        "            print(\"Correct.\")\n",
        "    \n",
        "        else:\n",
        "            print(\"Sorry, correct answer is \\\"{}\\\".\".format(a))\n",
        "\n",
        "    return score\n",
        "            \n",
        "\n",
        "if __name__ == \"__main__\":\n",
        "    main()"
      ],
      "execution_count": 1,
      "outputs": [
        {
          "output_type": "stream",
          "text": [
            "Goodluck! ^_^\n",
            "\n",
            "Please enter your name: Julie\n",
            "\n",
            "What is the capital of the Republic of the Philippines? Manila\n",
            "Correct.\n",
            "What is the \"Summer Capital\" of the Philippines? Baguio City\n",
            "Correct.\n",
            "What is the oldest city of the Philippines? Cebu\n",
            "Correct.\n",
            "What is the largest island of the Philippine Archipelago? Luzon\n",
            "Correct.\n",
            "What is the longest mountain range in the Country? Sierra Madre\n",
            "Correct.\n",
            "Where is the highest peak in the Philippines? Mt. Apo\n",
            "Correct.\n",
            "What is the longest river in the Philippines? Cagayan River\n",
            "Correct.\n",
            "What is the provincial capital of Isabela? Ilagan\n",
            "Correct.\n",
            "The Philippines is composed of approximately how many islands? 7500\n",
            "Correct.\n",
            "What is the largest province in the Philippines in terms of land area? Palawan\n",
            "Correct.\n",
            "\n",
            "Well done Julie, you scored 10 out of 10.\n"
          ],
          "name": "stdout"
        }
      ]
    },
    {
      "cell_type": "code",
      "metadata": {
        "id": "W30r9onguj9X",
        "colab_type": "code",
        "colab": {}
      },
      "source": [
        ""
      ],
      "execution_count": null,
      "outputs": []
    }
  ]
}